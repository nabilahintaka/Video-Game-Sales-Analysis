{
  "cells": [
    {
      "cell_type": "markdown",
      "metadata": {},
      "source": [
        "Nama : Nabilah Putri Intaka <br>\n",
        "Batch : RMT003<br>\n",
        "Program ini dibuat untuk mengidentifikasi dan mengeksplorasi sales dengan membandingkan sales pada video games berdasarkan genre, platform, publisher "
      ]
    },
    {
      "cell_type": "markdown",
      "metadata": {
        "id": "bjiHvPIHl_Do"
      },
      "source": [
        "# Business Objective"
      ]
    },
    {
      "cell_type": "markdown",
      "metadata": {
        "id": "4OToYnd3ltHe"
      },
      "source": [
        "Ingin menganalisa dan mengetahui secara detail perbedaan sales video games berdasarkan genre, platform dan publisher yang memiliki sales tertinggi sehingga tim bisa fokus dalam pengembangan games sesuai market"
      ]
    },
    {
      "cell_type": "markdown",
      "metadata": {
        "id": "CKXiYkl9mGzQ"
      },
      "source": [
        "# Identifikasi Masalah"
      ]
    },
    {
      "cell_type": "markdown",
      "metadata": {
        "id": "SpwLVUJgmJZi"
      },
      "source": [
        "**Using the SMART Framework:**\n",
        "* S: Analyze the relationship between sales, genre, platform, popular publishers\n",
        "* M: Calculate sales comparisons based on genre, platform or publisher\n",
        "* A: Analyze game names, genres, platforms, publishers, and sales\n",
        "* R: Focus on calculating video game sales to understand the comparison between genres, platforms, or publishers for game development according to the market\n",
        "* T: The results of the analysis will be completed in the next 1 week.\n",
        "\n",
        "**Problem Statement:**\n",
        "Want to identify and explore sales by comparing sales based on genre, platform, publisher for game development according to the market in the next 1 week\n"
      ]
    },
    {
      "cell_type": "markdown",
      "metadata": {
        "id": "qjhGEUrenTwx"
      },
      "source": [
        "# Breaking Down the Problem"
      ]
    },
    {
      "cell_type": "markdown",
      "metadata": {
        "id": "NQ6mN3UnnZ2a"
      },
      "source": [
        "Metode 5W+1H:\n",
        "\n",
        "* Publisher apa yang memiliki sales tertinggi?\n",
        "* Berapa total sales masing-masing genre?\n",
        "* Apakah ada perbedaan global sales antara platform PC dan X360? \n",
        "* Bagaimana perbandingan total sales antar region?\n",
        "* Tahun berapa game paling banyak di rilis?\n",
        "* Di platform mana yang memiliki sales tertinggi di masing-masing region?"
      ]
    },
    {
      "cell_type": "markdown",
      "metadata": {},
      "source": [
        "Dashboard Tableau : https://public.tableau.com/app/profile/nabilah.putri.intaka1611/viz/VideoGameSalesDashboard_17376436610220/Dashboard?publish=yes"
      ]
    },
    {
      "cell_type": "markdown",
      "metadata": {
        "id": "IJVHVFZsoxwy"
      },
      "source": [
        "# Data Loading"
      ]
    },
    {
      "cell_type": "markdown",
      "metadata": {
        "id": "YPR8-2CIozcT"
      },
      "source": [
        "Sumber Dataset : https://www.kaggle.com/datasets/gregorut/videogamesales"
      ]
    },
    {
      "cell_type": "code",
      "execution_count": 1,
      "metadata": {
        "id": "NzYsZTHoENao"
      },
      "outputs": [],
      "source": [
        "# Import Library\n",
        "import pandas as pd\n",
        "import numpy as np\n",
        "import matplotlib.pyplot as plt\n",
        "import seaborn as sns\n",
        "import scipy.stats as stats"
      ]
    },
    {
      "cell_type": "code",
      "execution_count": 2,
      "metadata": {
        "colab": {
          "base_uri": "https://localhost:8080/",
          "height": 256
        },
        "id": "K1QCQoqFpBKI",
        "outputId": "ca0b26a8-8b46-458c-824e-0f8481e58590"
      },
      "outputs": [
        {
          "data": {
            "text/html": [
              "<div>\n",
              "<style scoped>\n",
              "    .dataframe tbody tr th:only-of-type {\n",
              "        vertical-align: middle;\n",
              "    }\n",
              "\n",
              "    .dataframe tbody tr th {\n",
              "        vertical-align: top;\n",
              "    }\n",
              "\n",
              "    .dataframe thead th {\n",
              "        text-align: right;\n",
              "    }\n",
              "</style>\n",
              "<table border=\"1\" class=\"dataframe\">\n",
              "  <thead>\n",
              "    <tr style=\"text-align: right;\">\n",
              "      <th></th>\n",
              "      <th>Rank</th>\n",
              "      <th>Name</th>\n",
              "      <th>Platform</th>\n",
              "      <th>Year</th>\n",
              "      <th>Genre</th>\n",
              "      <th>Publisher</th>\n",
              "      <th>NA_Sales</th>\n",
              "      <th>EU_Sales</th>\n",
              "      <th>JP_Sales</th>\n",
              "      <th>Other_Sales</th>\n",
              "      <th>Global_Sales</th>\n",
              "    </tr>\n",
              "  </thead>\n",
              "  <tbody>\n",
              "    <tr>\n",
              "      <th>0</th>\n",
              "      <td>1</td>\n",
              "      <td>Wii Sports</td>\n",
              "      <td>Wii</td>\n",
              "      <td>2006.0</td>\n",
              "      <td>Sports</td>\n",
              "      <td>Nintendo</td>\n",
              "      <td>41.49</td>\n",
              "      <td>29.02</td>\n",
              "      <td>3.77</td>\n",
              "      <td>8.46</td>\n",
              "      <td>82.74</td>\n",
              "    </tr>\n",
              "    <tr>\n",
              "      <th>1</th>\n",
              "      <td>2</td>\n",
              "      <td>Super Mario Bros.</td>\n",
              "      <td>NES</td>\n",
              "      <td>1985.0</td>\n",
              "      <td>Platform</td>\n",
              "      <td>Nintendo</td>\n",
              "      <td>29.08</td>\n",
              "      <td>3.58</td>\n",
              "      <td>6.81</td>\n",
              "      <td>0.77</td>\n",
              "      <td>40.24</td>\n",
              "    </tr>\n",
              "    <tr>\n",
              "      <th>2</th>\n",
              "      <td>3</td>\n",
              "      <td>Mario Kart Wii</td>\n",
              "      <td>Wii</td>\n",
              "      <td>2008.0</td>\n",
              "      <td>Racing</td>\n",
              "      <td>Nintendo</td>\n",
              "      <td>15.85</td>\n",
              "      <td>12.88</td>\n",
              "      <td>3.79</td>\n",
              "      <td>3.31</td>\n",
              "      <td>35.82</td>\n",
              "    </tr>\n",
              "    <tr>\n",
              "      <th>3</th>\n",
              "      <td>4</td>\n",
              "      <td>Wii Sports Resort</td>\n",
              "      <td>Wii</td>\n",
              "      <td>2009.0</td>\n",
              "      <td>Sports</td>\n",
              "      <td>Nintendo</td>\n",
              "      <td>15.75</td>\n",
              "      <td>11.01</td>\n",
              "      <td>3.28</td>\n",
              "      <td>2.96</td>\n",
              "      <td>33.00</td>\n",
              "    </tr>\n",
              "    <tr>\n",
              "      <th>4</th>\n",
              "      <td>5</td>\n",
              "      <td>Pokemon Red/Pokemon Blue</td>\n",
              "      <td>GB</td>\n",
              "      <td>1996.0</td>\n",
              "      <td>Role-Playing</td>\n",
              "      <td>Nintendo</td>\n",
              "      <td>11.27</td>\n",
              "      <td>8.89</td>\n",
              "      <td>10.22</td>\n",
              "      <td>1.00</td>\n",
              "      <td>31.37</td>\n",
              "    </tr>\n",
              "  </tbody>\n",
              "</table>\n",
              "</div>"
            ],
            "text/plain": [
              "   Rank                      Name Platform    Year         Genre Publisher  \\\n",
              "0     1                Wii Sports      Wii  2006.0        Sports  Nintendo   \n",
              "1     2         Super Mario Bros.      NES  1985.0      Platform  Nintendo   \n",
              "2     3            Mario Kart Wii      Wii  2008.0        Racing  Nintendo   \n",
              "3     4         Wii Sports Resort      Wii  2009.0        Sports  Nintendo   \n",
              "4     5  Pokemon Red/Pokemon Blue       GB  1996.0  Role-Playing  Nintendo   \n",
              "\n",
              "   NA_Sales  EU_Sales  JP_Sales  Other_Sales  Global_Sales  \n",
              "0     41.49     29.02      3.77         8.46         82.74  \n",
              "1     29.08      3.58      6.81         0.77         40.24  \n",
              "2     15.85     12.88      3.79         3.31         35.82  \n",
              "3     15.75     11.01      3.28         2.96         33.00  \n",
              "4     11.27      8.89     10.22         1.00         31.37  "
            ]
          },
          "execution_count": 2,
          "metadata": {},
          "output_type": "execute_result"
        }
      ],
      "source": [
        "# Memasukan data CSV\n",
        "df = pd.read_csv('vgsales.csv')\n",
        "df.head()"
      ]
    },
    {
      "cell_type": "code",
      "execution_count": 3,
      "metadata": {
        "colab": {
          "base_uri": "https://localhost:8080/"
        },
        "id": "wNqIzA59pSxO",
        "outputId": "e11ae5a6-ba26-4082-c648-f6a551763b8a"
      },
      "outputs": [
        {
          "data": {
            "text/plain": [
              "16598"
            ]
          },
          "execution_count": 3,
          "metadata": {},
          "output_type": "execute_result"
        }
      ],
      "source": [
        "df.shape[1] # kolom\n",
        "df.shape[0] # row"
      ]
    },
    {
      "cell_type": "code",
      "execution_count": 4,
      "metadata": {
        "colab": {
          "base_uri": "https://localhost:8080/"
        },
        "id": "bcap8lUOpkWg",
        "outputId": "c45cffae-f2fd-4e2e-a9df-67d110080588"
      },
      "outputs": [
        {
          "name": "stdout",
          "output_type": "stream",
          "text": [
            "<class 'pandas.core.frame.DataFrame'>\n",
            "RangeIndex: 16598 entries, 0 to 16597\n",
            "Data columns (total 11 columns):\n",
            " #   Column        Non-Null Count  Dtype  \n",
            "---  ------        --------------  -----  \n",
            " 0   Rank          16598 non-null  int64  \n",
            " 1   Name          16598 non-null  object \n",
            " 2   Platform      16598 non-null  object \n",
            " 3   Year          16327 non-null  float64\n",
            " 4   Genre         16598 non-null  object \n",
            " 5   Publisher     16540 non-null  object \n",
            " 6   NA_Sales      16598 non-null  float64\n",
            " 7   EU_Sales      16598 non-null  float64\n",
            " 8   JP_Sales      16598 non-null  float64\n",
            " 9   Other_Sales   16598 non-null  float64\n",
            " 10  Global_Sales  16598 non-null  float64\n",
            "dtypes: float64(6), int64(1), object(4)\n",
            "memory usage: 1.4+ MB\n"
          ]
        }
      ],
      "source": [
        "# Cek informasi data\n",
        "df.info()"
      ]
    },
    {
      "cell_type": "markdown",
      "metadata": {
        "id": "neWY-rKOprbb"
      },
      "source": [
        "setelah dilakukan pengecekan data terdapat kesimpulan:\n",
        "1. Missing value\n",
        "2. Tipe data"
      ]
    },
    {
      "cell_type": "markdown",
      "metadata": {
        "id": "QBPb7pteqGD7"
      },
      "source": [
        "# Data Cleaning"
      ]
    },
    {
      "cell_type": "markdown",
      "metadata": {
        "id": "5Y-L3-rnqPTE"
      },
      "source": [
        "**Missing Value**"
      ]
    },
    {
      "cell_type": "code",
      "execution_count": 5,
      "metadata": {
        "colab": {
          "base_uri": "https://localhost:8080/",
          "height": 833
        },
        "id": "YYJAzsjYqOOt",
        "outputId": "6cb955d2-a8ce-4c68-8329-ec8c64264a78"
      },
      "outputs": [
        {
          "data": {
            "text/html": [
              "<div>\n",
              "<style scoped>\n",
              "    .dataframe tbody tr th:only-of-type {\n",
              "        vertical-align: middle;\n",
              "    }\n",
              "\n",
              "    .dataframe tbody tr th {\n",
              "        vertical-align: top;\n",
              "    }\n",
              "\n",
              "    .dataframe thead th {\n",
              "        text-align: right;\n",
              "    }\n",
              "</style>\n",
              "<table border=\"1\" class=\"dataframe\">\n",
              "  <thead>\n",
              "    <tr style=\"text-align: right;\">\n",
              "      <th></th>\n",
              "      <th>column_name</th>\n",
              "      <th>percent_missing</th>\n",
              "    </tr>\n",
              "  </thead>\n",
              "  <tbody>\n",
              "    <tr>\n",
              "      <th>Rank</th>\n",
              "      <td>Rank</td>\n",
              "      <td>0.000000</td>\n",
              "    </tr>\n",
              "    <tr>\n",
              "      <th>Name</th>\n",
              "      <td>Name</td>\n",
              "      <td>0.000000</td>\n",
              "    </tr>\n",
              "    <tr>\n",
              "      <th>Platform</th>\n",
              "      <td>Platform</td>\n",
              "      <td>0.000000</td>\n",
              "    </tr>\n",
              "    <tr>\n",
              "      <th>Year</th>\n",
              "      <td>Year</td>\n",
              "      <td>1.632727</td>\n",
              "    </tr>\n",
              "    <tr>\n",
              "      <th>Genre</th>\n",
              "      <td>Genre</td>\n",
              "      <td>0.000000</td>\n",
              "    </tr>\n",
              "    <tr>\n",
              "      <th>Publisher</th>\n",
              "      <td>Publisher</td>\n",
              "      <td>0.349440</td>\n",
              "    </tr>\n",
              "    <tr>\n",
              "      <th>NA_Sales</th>\n",
              "      <td>NA_Sales</td>\n",
              "      <td>0.000000</td>\n",
              "    </tr>\n",
              "    <tr>\n",
              "      <th>EU_Sales</th>\n",
              "      <td>EU_Sales</td>\n",
              "      <td>0.000000</td>\n",
              "    </tr>\n",
              "    <tr>\n",
              "      <th>JP_Sales</th>\n",
              "      <td>JP_Sales</td>\n",
              "      <td>0.000000</td>\n",
              "    </tr>\n",
              "    <tr>\n",
              "      <th>Other_Sales</th>\n",
              "      <td>Other_Sales</td>\n",
              "      <td>0.000000</td>\n",
              "    </tr>\n",
              "    <tr>\n",
              "      <th>Global_Sales</th>\n",
              "      <td>Global_Sales</td>\n",
              "      <td>0.000000</td>\n",
              "    </tr>\n",
              "  </tbody>\n",
              "</table>\n",
              "</div>"
            ],
            "text/plain": [
              "               column_name  percent_missing\n",
              "Rank                  Rank         0.000000\n",
              "Name                  Name         0.000000\n",
              "Platform          Platform         0.000000\n",
              "Year                  Year         1.632727\n",
              "Genre                Genre         0.000000\n",
              "Publisher        Publisher         0.349440\n",
              "NA_Sales          NA_Sales         0.000000\n",
              "EU_Sales          EU_Sales         0.000000\n",
              "JP_Sales          JP_Sales         0.000000\n",
              "Other_Sales    Other_Sales         0.000000\n",
              "Global_Sales  Global_Sales         0.000000"
            ]
          },
          "execution_count": 5,
          "metadata": {},
          "output_type": "execute_result"
        }
      ],
      "source": [
        "percent_missing = df.isnull().sum() * 100 / len(df)\n",
        "missing_value_df = pd.DataFrame({'column_name': df.columns,\n",
        "                                 'percent_missing': percent_missing})\n",
        "missing_value_df"
      ]
    },
    {
      "cell_type": "markdown",
      "metadata": {
        "id": "SwW7SLFKqaeT"
      },
      "source": [
        "Berdasarkan hasil analisa, terdapat 2 data yg missing value\n",
        "1. Year: terdapat 1.6%\n",
        "2. Publisher : 0,3%\n"
      ]
    },
    {
      "cell_type": "code",
      "execution_count": 6,
      "metadata": {},
      "outputs": [],
      "source": [
        "# drop Year and Publisher\n",
        "df = df.dropna(subset=['Year','Publisher']) # menghapus row yang punya nilai kosong di kolom penting    "
      ]
    },
    {
      "cell_type": "code",
      "execution_count": 7,
      "metadata": {},
      "outputs": [
        {
          "data": {
            "text/html": [
              "<div>\n",
              "<style scoped>\n",
              "    .dataframe tbody tr th:only-of-type {\n",
              "        vertical-align: middle;\n",
              "    }\n",
              "\n",
              "    .dataframe tbody tr th {\n",
              "        vertical-align: top;\n",
              "    }\n",
              "\n",
              "    .dataframe thead th {\n",
              "        text-align: right;\n",
              "    }\n",
              "</style>\n",
              "<table border=\"1\" class=\"dataframe\">\n",
              "  <thead>\n",
              "    <tr style=\"text-align: right;\">\n",
              "      <th></th>\n",
              "      <th>column_name</th>\n",
              "      <th>percent_missing</th>\n",
              "    </tr>\n",
              "  </thead>\n",
              "  <tbody>\n",
              "    <tr>\n",
              "      <th>Rank</th>\n",
              "      <td>Rank</td>\n",
              "      <td>0.0</td>\n",
              "    </tr>\n",
              "    <tr>\n",
              "      <th>Name</th>\n",
              "      <td>Name</td>\n",
              "      <td>0.0</td>\n",
              "    </tr>\n",
              "    <tr>\n",
              "      <th>Platform</th>\n",
              "      <td>Platform</td>\n",
              "      <td>0.0</td>\n",
              "    </tr>\n",
              "    <tr>\n",
              "      <th>Year</th>\n",
              "      <td>Year</td>\n",
              "      <td>0.0</td>\n",
              "    </tr>\n",
              "    <tr>\n",
              "      <th>Genre</th>\n",
              "      <td>Genre</td>\n",
              "      <td>0.0</td>\n",
              "    </tr>\n",
              "    <tr>\n",
              "      <th>Publisher</th>\n",
              "      <td>Publisher</td>\n",
              "      <td>0.0</td>\n",
              "    </tr>\n",
              "    <tr>\n",
              "      <th>NA_Sales</th>\n",
              "      <td>NA_Sales</td>\n",
              "      <td>0.0</td>\n",
              "    </tr>\n",
              "    <tr>\n",
              "      <th>EU_Sales</th>\n",
              "      <td>EU_Sales</td>\n",
              "      <td>0.0</td>\n",
              "    </tr>\n",
              "    <tr>\n",
              "      <th>JP_Sales</th>\n",
              "      <td>JP_Sales</td>\n",
              "      <td>0.0</td>\n",
              "    </tr>\n",
              "    <tr>\n",
              "      <th>Other_Sales</th>\n",
              "      <td>Other_Sales</td>\n",
              "      <td>0.0</td>\n",
              "    </tr>\n",
              "    <tr>\n",
              "      <th>Global_Sales</th>\n",
              "      <td>Global_Sales</td>\n",
              "      <td>0.0</td>\n",
              "    </tr>\n",
              "  </tbody>\n",
              "</table>\n",
              "</div>"
            ],
            "text/plain": [
              "               column_name  percent_missing\n",
              "Rank                  Rank              0.0\n",
              "Name                  Name              0.0\n",
              "Platform          Platform              0.0\n",
              "Year                  Year              0.0\n",
              "Genre                Genre              0.0\n",
              "Publisher        Publisher              0.0\n",
              "NA_Sales          NA_Sales              0.0\n",
              "EU_Sales          EU_Sales              0.0\n",
              "JP_Sales          JP_Sales              0.0\n",
              "Other_Sales    Other_Sales              0.0\n",
              "Global_Sales  Global_Sales              0.0"
            ]
          },
          "execution_count": 7,
          "metadata": {},
          "output_type": "execute_result"
        }
      ],
      "source": [
        "percent_missing = df.isnull().sum() * 100 / len(df)\n",
        "missing_value_df = pd.DataFrame({'column_name': df.columns,\n",
        "                                 'percent_missing': percent_missing})\n",
        "missing_value_df"
      ]
    },
    {
      "cell_type": "markdown",
      "metadata": {
        "id": "Rcxc-7tkrvXR"
      },
      "source": [
        "**Duplicate**"
      ]
    },
    {
      "cell_type": "code",
      "execution_count": 8,
      "metadata": {
        "colab": {
          "base_uri": "https://localhost:8080/"
        },
        "id": "RQeEblbdryEK",
        "outputId": "2bac6cfe-1bf1-4bf0-a14c-9fe9c87c3cb2"
      },
      "outputs": [
        {
          "data": {
            "text/plain": [
              "np.int64(0)"
            ]
          },
          "execution_count": 8,
          "metadata": {},
          "output_type": "execute_result"
        }
      ],
      "source": [
        "# Cek data duplikat\n",
        "df.duplicated().sum()"
      ]
    },
    {
      "cell_type": "markdown",
      "metadata": {
        "id": "eEVLz9v_r-bR"
      },
      "source": [
        "**Incosistent Data**"
      ]
    },
    {
      "cell_type": "code",
      "execution_count": 9,
      "metadata": {
        "colab": {
          "base_uri": "https://localhost:8080/"
        },
        "id": "BO9JBmsZr_8q",
        "outputId": "46a1b129-5a54-416a-fa89-a287f731b8c9"
      },
      "outputs": [
        {
          "name": "stdout",
          "output_type": "stream",
          "text": [
            "<class 'pandas.core.frame.DataFrame'>\n",
            "Index: 16291 entries, 0 to 16597\n",
            "Data columns (total 11 columns):\n",
            " #   Column        Non-Null Count  Dtype  \n",
            "---  ------        --------------  -----  \n",
            " 0   Rank          16291 non-null  int64  \n",
            " 1   Name          16291 non-null  object \n",
            " 2   Platform      16291 non-null  object \n",
            " 3   Year          16291 non-null  float64\n",
            " 4   Genre         16291 non-null  object \n",
            " 5   Publisher     16291 non-null  object \n",
            " 6   NA_Sales      16291 non-null  float64\n",
            " 7   EU_Sales      16291 non-null  float64\n",
            " 8   JP_Sales      16291 non-null  float64\n",
            " 9   Other_Sales   16291 non-null  float64\n",
            " 10  Global_Sales  16291 non-null  float64\n",
            "dtypes: float64(6), int64(1), object(4)\n",
            "memory usage: 1.5+ MB\n"
          ]
        }
      ],
      "source": [
        "# Cek informasi data\n",
        "df.info()"
      ]
    },
    {
      "cell_type": "code",
      "execution_count": 10,
      "metadata": {},
      "outputs": [],
      "source": [
        "# Mengubah tipe data pada kolom Year menjadi date\n",
        "df['Year'] = pd.to_datetime(df['Year'], format='%Y').dt.date"
      ]
    },
    {
      "cell_type": "code",
      "execution_count": 11,
      "metadata": {},
      "outputs": [
        {
          "data": {
            "text/html": [
              "<div>\n",
              "<style scoped>\n",
              "    .dataframe tbody tr th:only-of-type {\n",
              "        vertical-align: middle;\n",
              "    }\n",
              "\n",
              "    .dataframe tbody tr th {\n",
              "        vertical-align: top;\n",
              "    }\n",
              "\n",
              "    .dataframe thead th {\n",
              "        text-align: right;\n",
              "    }\n",
              "</style>\n",
              "<table border=\"1\" class=\"dataframe\">\n",
              "  <thead>\n",
              "    <tr style=\"text-align: right;\">\n",
              "      <th></th>\n",
              "      <th>Rank</th>\n",
              "      <th>Name</th>\n",
              "      <th>Platform</th>\n",
              "      <th>Year</th>\n",
              "      <th>Genre</th>\n",
              "      <th>Publisher</th>\n",
              "      <th>NA_Sales</th>\n",
              "      <th>EU_Sales</th>\n",
              "      <th>JP_Sales</th>\n",
              "      <th>Other_Sales</th>\n",
              "      <th>Global_Sales</th>\n",
              "    </tr>\n",
              "  </thead>\n",
              "  <tbody>\n",
              "    <tr>\n",
              "      <th>0</th>\n",
              "      <td>1</td>\n",
              "      <td>Wii Sports</td>\n",
              "      <td>Wii</td>\n",
              "      <td>2006-01-01</td>\n",
              "      <td>Sports</td>\n",
              "      <td>Nintendo</td>\n",
              "      <td>41.49</td>\n",
              "      <td>29.02</td>\n",
              "      <td>3.77</td>\n",
              "      <td>8.46</td>\n",
              "      <td>82.74</td>\n",
              "    </tr>\n",
              "    <tr>\n",
              "      <th>1</th>\n",
              "      <td>2</td>\n",
              "      <td>Super Mario Bros.</td>\n",
              "      <td>NES</td>\n",
              "      <td>1985-01-01</td>\n",
              "      <td>Platform</td>\n",
              "      <td>Nintendo</td>\n",
              "      <td>29.08</td>\n",
              "      <td>3.58</td>\n",
              "      <td>6.81</td>\n",
              "      <td>0.77</td>\n",
              "      <td>40.24</td>\n",
              "    </tr>\n",
              "    <tr>\n",
              "      <th>2</th>\n",
              "      <td>3</td>\n",
              "      <td>Mario Kart Wii</td>\n",
              "      <td>Wii</td>\n",
              "      <td>2008-01-01</td>\n",
              "      <td>Racing</td>\n",
              "      <td>Nintendo</td>\n",
              "      <td>15.85</td>\n",
              "      <td>12.88</td>\n",
              "      <td>3.79</td>\n",
              "      <td>3.31</td>\n",
              "      <td>35.82</td>\n",
              "    </tr>\n",
              "    <tr>\n",
              "      <th>3</th>\n",
              "      <td>4</td>\n",
              "      <td>Wii Sports Resort</td>\n",
              "      <td>Wii</td>\n",
              "      <td>2009-01-01</td>\n",
              "      <td>Sports</td>\n",
              "      <td>Nintendo</td>\n",
              "      <td>15.75</td>\n",
              "      <td>11.01</td>\n",
              "      <td>3.28</td>\n",
              "      <td>2.96</td>\n",
              "      <td>33.00</td>\n",
              "    </tr>\n",
              "    <tr>\n",
              "      <th>4</th>\n",
              "      <td>5</td>\n",
              "      <td>Pokemon Red/Pokemon Blue</td>\n",
              "      <td>GB</td>\n",
              "      <td>1996-01-01</td>\n",
              "      <td>Role-Playing</td>\n",
              "      <td>Nintendo</td>\n",
              "      <td>11.27</td>\n",
              "      <td>8.89</td>\n",
              "      <td>10.22</td>\n",
              "      <td>1.00</td>\n",
              "      <td>31.37</td>\n",
              "    </tr>\n",
              "  </tbody>\n",
              "</table>\n",
              "</div>"
            ],
            "text/plain": [
              "   Rank                      Name Platform        Year         Genre  \\\n",
              "0     1                Wii Sports      Wii  2006-01-01        Sports   \n",
              "1     2         Super Mario Bros.      NES  1985-01-01      Platform   \n",
              "2     3            Mario Kart Wii      Wii  2008-01-01        Racing   \n",
              "3     4         Wii Sports Resort      Wii  2009-01-01        Sports   \n",
              "4     5  Pokemon Red/Pokemon Blue       GB  1996-01-01  Role-Playing   \n",
              "\n",
              "  Publisher  NA_Sales  EU_Sales  JP_Sales  Other_Sales  Global_Sales  \n",
              "0  Nintendo     41.49     29.02      3.77         8.46         82.74  \n",
              "1  Nintendo     29.08      3.58      6.81         0.77         40.24  \n",
              "2  Nintendo     15.85     12.88      3.79         3.31         35.82  \n",
              "3  Nintendo     15.75     11.01      3.28         2.96         33.00  \n",
              "4  Nintendo     11.27      8.89     10.22         1.00         31.37  "
            ]
          },
          "execution_count": 11,
          "metadata": {},
          "output_type": "execute_result"
        }
      ],
      "source": [
        "# Cek 5 data teratas\n",
        "df.head()"
      ]
    },
    {
      "cell_type": "code",
      "execution_count": 12,
      "metadata": {},
      "outputs": [
        {
          "name": "stdout",
          "output_type": "stream",
          "text": [
            "<class 'pandas.core.frame.DataFrame'>\n",
            "Index: 16291 entries, 0 to 16597\n",
            "Data columns (total 11 columns):\n",
            " #   Column        Non-Null Count  Dtype  \n",
            "---  ------        --------------  -----  \n",
            " 0   Rank          16291 non-null  int64  \n",
            " 1   Name          16291 non-null  object \n",
            " 2   Platform      16291 non-null  object \n",
            " 3   Year          16291 non-null  object \n",
            " 4   Genre         16291 non-null  object \n",
            " 5   Publisher     16291 non-null  object \n",
            " 6   NA_Sales      16291 non-null  float64\n",
            " 7   EU_Sales      16291 non-null  float64\n",
            " 8   JP_Sales      16291 non-null  float64\n",
            " 9   Other_Sales   16291 non-null  float64\n",
            " 10  Global_Sales  16291 non-null  float64\n",
            "dtypes: float64(5), int64(1), object(5)\n",
            "memory usage: 1.5+ MB\n"
          ]
        }
      ],
      "source": [
        "df.info()"
      ]
    },
    {
      "cell_type": "markdown",
      "metadata": {
        "id": "bIFG6Y2ptAwA"
      },
      "source": [
        "**Export Dataframe**"
      ]
    },
    {
      "cell_type": "code",
      "execution_count": 13,
      "metadata": {
        "id": "JjDXOTgNtB_g"
      },
      "outputs": [],
      "source": [
        "df.to_csv('dataset_games.csv', index=False)"
      ]
    },
    {
      "cell_type": "markdown",
      "metadata": {
        "id": "Ral7q2IAtSBN"
      },
      "source": [
        "# Analisa dan Perhitungan"
      ]
    },
    {
      "cell_type": "code",
      "execution_count": 184,
      "metadata": {
        "colab": {
          "base_uri": "https://localhost:8080/",
          "height": 256
        },
        "id": "YLzubfNHtldp",
        "outputId": "e895cb76-b4a5-4fac-bc8f-42de60a2b919"
      },
      "outputs": [
        {
          "data": {
            "text/html": [
              "<div>\n",
              "<style scoped>\n",
              "    .dataframe tbody tr th:only-of-type {\n",
              "        vertical-align: middle;\n",
              "    }\n",
              "\n",
              "    .dataframe tbody tr th {\n",
              "        vertical-align: top;\n",
              "    }\n",
              "\n",
              "    .dataframe thead th {\n",
              "        text-align: right;\n",
              "    }\n",
              "</style>\n",
              "<table border=\"1\" class=\"dataframe\">\n",
              "  <thead>\n",
              "    <tr style=\"text-align: right;\">\n",
              "      <th></th>\n",
              "      <th>Rank</th>\n",
              "      <th>Name</th>\n",
              "      <th>Platform</th>\n",
              "      <th>Year</th>\n",
              "      <th>Genre</th>\n",
              "      <th>Publisher</th>\n",
              "      <th>NA_Sales</th>\n",
              "      <th>EU_Sales</th>\n",
              "      <th>JP_Sales</th>\n",
              "      <th>Other_Sales</th>\n",
              "      <th>Global_Sales</th>\n",
              "    </tr>\n",
              "  </thead>\n",
              "  <tbody>\n",
              "    <tr>\n",
              "      <th>0</th>\n",
              "      <td>1</td>\n",
              "      <td>Wii Sports</td>\n",
              "      <td>Wii</td>\n",
              "      <td>2006-01-01</td>\n",
              "      <td>Sports</td>\n",
              "      <td>Nintendo</td>\n",
              "      <td>41.49</td>\n",
              "      <td>29.02</td>\n",
              "      <td>3.77</td>\n",
              "      <td>8.46</td>\n",
              "      <td>82.74</td>\n",
              "    </tr>\n",
              "    <tr>\n",
              "      <th>1</th>\n",
              "      <td>2</td>\n",
              "      <td>Super Mario Bros.</td>\n",
              "      <td>NES</td>\n",
              "      <td>1985-01-01</td>\n",
              "      <td>Platform</td>\n",
              "      <td>Nintendo</td>\n",
              "      <td>29.08</td>\n",
              "      <td>3.58</td>\n",
              "      <td>6.81</td>\n",
              "      <td>0.77</td>\n",
              "      <td>40.24</td>\n",
              "    </tr>\n",
              "    <tr>\n",
              "      <th>2</th>\n",
              "      <td>3</td>\n",
              "      <td>Mario Kart Wii</td>\n",
              "      <td>Wii</td>\n",
              "      <td>2008-01-01</td>\n",
              "      <td>Racing</td>\n",
              "      <td>Nintendo</td>\n",
              "      <td>15.85</td>\n",
              "      <td>12.88</td>\n",
              "      <td>3.79</td>\n",
              "      <td>3.31</td>\n",
              "      <td>35.82</td>\n",
              "    </tr>\n",
              "    <tr>\n",
              "      <th>3</th>\n",
              "      <td>4</td>\n",
              "      <td>Wii Sports Resort</td>\n",
              "      <td>Wii</td>\n",
              "      <td>2009-01-01</td>\n",
              "      <td>Sports</td>\n",
              "      <td>Nintendo</td>\n",
              "      <td>15.75</td>\n",
              "      <td>11.01</td>\n",
              "      <td>3.28</td>\n",
              "      <td>2.96</td>\n",
              "      <td>33.00</td>\n",
              "    </tr>\n",
              "    <tr>\n",
              "      <th>4</th>\n",
              "      <td>5</td>\n",
              "      <td>Pokemon Red/Pokemon Blue</td>\n",
              "      <td>GB</td>\n",
              "      <td>1996-01-01</td>\n",
              "      <td>Role-Playing</td>\n",
              "      <td>Nintendo</td>\n",
              "      <td>11.27</td>\n",
              "      <td>8.89</td>\n",
              "      <td>10.22</td>\n",
              "      <td>1.00</td>\n",
              "      <td>31.37</td>\n",
              "    </tr>\n",
              "  </tbody>\n",
              "</table>\n",
              "</div>"
            ],
            "text/plain": [
              "   Rank                      Name Platform        Year         Genre  \\\n",
              "0     1                Wii Sports      Wii  2006-01-01        Sports   \n",
              "1     2         Super Mario Bros.      NES  1985-01-01      Platform   \n",
              "2     3            Mario Kart Wii      Wii  2008-01-01        Racing   \n",
              "3     4         Wii Sports Resort      Wii  2009-01-01        Sports   \n",
              "4     5  Pokemon Red/Pokemon Blue       GB  1996-01-01  Role-Playing   \n",
              "\n",
              "  Publisher  NA_Sales  EU_Sales  JP_Sales  Other_Sales  Global_Sales  \n",
              "0  Nintendo     41.49     29.02      3.77         8.46         82.74  \n",
              "1  Nintendo     29.08      3.58      6.81         0.77         40.24  \n",
              "2  Nintendo     15.85     12.88      3.79         3.31         35.82  \n",
              "3  Nintendo     15.75     11.01      3.28         2.96         33.00  \n",
              "4  Nintendo     11.27      8.89     10.22         1.00         31.37  "
            ]
          },
          "execution_count": 184,
          "metadata": {},
          "output_type": "execute_result"
        }
      ],
      "source": [
        "df.head(5)"
      ]
    },
    {
      "cell_type": "code",
      "execution_count": 185,
      "metadata": {},
      "outputs": [
        {
          "name": "stdout",
          "output_type": "stream",
          "text": [
            "Number of Games:  11325\n",
            "Publishers:  576\n",
            "Platforms:  31\n",
            "Game Types:  12\n"
          ]
        }
      ],
      "source": [
        "games = df['Name'].unique()\n",
        "publishers = df['Publisher'].unique()\n",
        "platforms = df['Platform'].unique()\n",
        "game_type = df['Genre'].unique()\n",
        "\n",
        "print(\"Number of Games: \",len(games))\n",
        "print(\"Publishers: \",len(publishers))\n",
        "print(\"Platforms: \",len(platforms))\n",
        "print(\"Game Types: \",len(game_type))"
      ]
    },
    {
      "cell_type": "code",
      "execution_count": 34,
      "metadata": {},
      "outputs": [
        {
          "data": {
            "text/html": [
              "<div>\n",
              "<style scoped>\n",
              "    .dataframe tbody tr th:only-of-type {\n",
              "        vertical-align: middle;\n",
              "    }\n",
              "\n",
              "    .dataframe tbody tr th {\n",
              "        vertical-align: top;\n",
              "    }\n",
              "\n",
              "    .dataframe thead th {\n",
              "        text-align: right;\n",
              "    }\n",
              "</style>\n",
              "<table border=\"1\" class=\"dataframe\">\n",
              "  <thead>\n",
              "    <tr style=\"text-align: right;\">\n",
              "      <th></th>\n",
              "      <th>index</th>\n",
              "      <th>Publisher</th>\n",
              "      <th>Name</th>\n",
              "    </tr>\n",
              "  </thead>\n",
              "  <tbody>\n",
              "    <tr>\n",
              "      <th>0</th>\n",
              "      <td>138</td>\n",
              "      <td>Electronic Arts</td>\n",
              "      <td>1339</td>\n",
              "    </tr>\n",
              "    <tr>\n",
              "      <th>1</th>\n",
              "      <td>21</td>\n",
              "      <td>Activision</td>\n",
              "      <td>966</td>\n",
              "    </tr>\n",
              "    <tr>\n",
              "      <th>2</th>\n",
              "      <td>347</td>\n",
              "      <td>Namco Bandai Games</td>\n",
              "      <td>928</td>\n",
              "    </tr>\n",
              "    <tr>\n",
              "      <th>3</th>\n",
              "      <td>524</td>\n",
              "      <td>Ubisoft</td>\n",
              "      <td>918</td>\n",
              "    </tr>\n",
              "    <tr>\n",
              "      <th>4</th>\n",
              "      <td>275</td>\n",
              "      <td>Konami Digital Entertainment</td>\n",
              "      <td>823</td>\n",
              "    </tr>\n",
              "    <tr>\n",
              "      <th>...</th>\n",
              "      <td>...</td>\n",
              "      <td>...</td>\n",
              "      <td>...</td>\n",
              "    </tr>\n",
              "    <tr>\n",
              "      <th>571</th>\n",
              "      <td>135</td>\n",
              "      <td>Ecole</td>\n",
              "      <td>1</td>\n",
              "    </tr>\n",
              "    <tr>\n",
              "      <th>572</th>\n",
              "      <td>132</td>\n",
              "      <td>EON Digital Entertainment</td>\n",
              "      <td>1</td>\n",
              "    </tr>\n",
              "    <tr>\n",
              "      <th>573</th>\n",
              "      <td>131</td>\n",
              "      <td>EA Games</td>\n",
              "      <td>1</td>\n",
              "    </tr>\n",
              "    <tr>\n",
              "      <th>574</th>\n",
              "      <td>129</td>\n",
              "      <td>DreamWorks Interactive</td>\n",
              "      <td>1</td>\n",
              "    </tr>\n",
              "    <tr>\n",
              "      <th>575</th>\n",
              "      <td>24</td>\n",
              "      <td>Adeline Software</td>\n",
              "      <td>1</td>\n",
              "    </tr>\n",
              "  </tbody>\n",
              "</table>\n",
              "<p>576 rows × 3 columns</p>\n",
              "</div>"
            ],
            "text/plain": [
              "     index                     Publisher  Name\n",
              "0      138               Electronic Arts  1339\n",
              "1       21                    Activision   966\n",
              "2      347            Namco Bandai Games   928\n",
              "3      524                       Ubisoft   918\n",
              "4      275  Konami Digital Entertainment   823\n",
              "..     ...                           ...   ...\n",
              "571    135                         Ecole     1\n",
              "572    132     EON Digital Entertainment     1\n",
              "573    131                      EA Games     1\n",
              "574    129        DreamWorks Interactive     1\n",
              "575     24              Adeline Software     1\n",
              "\n",
              "[576 rows x 3 columns]"
            ]
          },
          "execution_count": 34,
          "metadata": {},
          "output_type": "execute_result"
        }
      ],
      "source": [
        "# Top 10 video game publishers\n",
        "publisher =  df.groupby('Publisher')['Name'].count().reset_index()\n",
        "publisher = publisher.sort_values('Name',ascending=False).reset_index()\n",
        "publisher"
      ]
    },
    {
      "cell_type": "markdown",
      "metadata": {},
      "source": [
        "**Q1 : Publisher apa yang memiliki sales tertinggi?**"
      ]
    },
    {
      "cell_type": "code",
      "execution_count": 52,
      "metadata": {},
      "outputs": [
        {
          "name": "stdout",
          "output_type": "stream",
          "text": [
            "Publisher\n",
            "Nintendo                        1784.43\n",
            "Electronic Arts                 1093.39\n",
            "Activision                       721.41\n",
            "Sony Computer Entertainment      607.28\n",
            "Ubisoft                          473.54\n",
            "Take-Two Interactive             399.30\n",
            "THQ                              340.44\n",
            "Konami Digital Entertainment     278.56\n",
            "Sega                             270.70\n",
            "Namco Bandai Games               253.65\n",
            "Name: Global_Sales, dtype: float64\n"
          ]
        },
        {
          "data": {
            "image/png": "[encoded data removed]",
            "text/plain": [
              "<Figure size 640x480 with 1 Axes>"
            ]
          },
          "metadata": {},
          "output_type": "display_data"
        }
      ],
      "source": [
        "# Menghitung total penjualan per publisher\n",
        "sales_by_publisher = df.groupby('Publisher')['Global_Sales'].sum()\n",
        "\n",
        "# Menampilkan 10 publisher dengan penjualan tertinggi\n",
        "top_10_publishers = sales_by_publisher.sort_values(ascending=False).head(10)\n",
        "print(top_10_publishers)\n",
        "\n",
        "# Membuat visualisasi\n",
        "top_10_publishers.plot(kind='bar', color='orange')\n",
        "plt.title('10 Publisher dengan Sales Tertinggi')\n",
        "plt.xlabel('Publisher') \n",
        "plt.ylabel('Total Penjualan Global')\n",
        "plt.show()"
      ]
    },
    {
      "cell_type": "markdown",
      "metadata": {},
      "source": [
        "**Insight** : Bisa dilihat terdapat perbedaan yang signifikan antara total penjualan dari 2 publisher teratas dengan publisher lainnya. Ini menunjukkan adanya kesenjangan yang cukup besar dalam hal pangsa pasar. Publisher dengan peringkat teratas bisa menjadi target untuk kolaborasi atau analisis lebih lanjut. Mereka mungkin memiliki strategi pemasaran atau pengembangan game yang sangat efektif. untuk publisher dengan sales dibawahnya dapat melakukan improve dengan melihat publisher dengan sales yang lebih tinggi"
      ]
    },
    {
      "cell_type": "code",
      "execution_count": null,
      "metadata": {},
      "outputs": [
        {
          "name": "stdout",
          "output_type": "stream",
          "text": [
            "                             NA_Sales  EU_Sales  JP_Sales  Other_Sales  \\\n",
            "Publisher                                                                \n",
            "Nintendo                       815.75    418.30    454.99        95.19   \n",
            "Electronic Arts                584.22    367.38     13.98       127.63   \n",
            "Activision                     426.01    213.72      6.54        74.79   \n",
            "Sony Computer Entertainment    265.22    187.55     74.10        80.40   \n",
            "Ubisoft                        252.81    163.03      7.33        50.16   \n",
            "\n",
            "                             Global_Sales  \n",
            "Publisher                                  \n",
            "Nintendo                          1784.23  \n",
            "Electronic Arts                   1093.21  \n",
            "Activision                         721.06  \n",
            "Sony Computer Entertainment        607.27  \n",
            "Ubisoft                            473.33  \n"
          ]
        },
        {
          "data": {
            "image/png": "[encoded data removed]",
            "text/plain": [
              "<Figure size 1000x600 with 1 Axes>"
            ]
          },
          "metadata": {},
          "output_type": "display_data"
        }
      ],
      "source": [
        "# Menghitung total penjualan per Publisher di setiap region\n",
        "sales_by_publisher_region = df.groupby(['Publisher'])[['NA_Sales', 'EU_Sales', 'JP_Sales', 'Other_Sales']].sum()\n",
        "\n",
        "# Hitung total penjualan global per Publisher\n",
        "sales_by_publisher_region['Global_Sales'] = sales_by_publisher_region.sum(axis=1)\n",
        "\n",
        "# Urutkan berdasarkan penjualan global dan ambil 5 teratas\n",
        "top_5_publishers = sales_by_publisher_region.sort_values('Global_Sales', ascending=False).head(5)\n",
        "\n",
        "# Menampilkan hasil dalam bentuk tabel\n",
        "print(top_5_publishers)\n",
        "\n",
        "# Membuat visualisasi dengan bar chart (fokus pada Global Sales)\n",
        "top_5_publishers.plot(kind='bar', figsize=(10,6))\n",
        "plt.title('5 Publisher dengan Total Penjualan Tertinggi')\n",
        "plt.xlabel('Publisher')\n",
        "plt.ylabel('Total Penjualan')\n",
        "plt.xticks(rotation=45)  # Rotasi label x-axis agar lebih mudah dibaca\n",
        "plt.legend(loc='upper right')  # Letakkan legenda di pojok kanan atas\n",
        "plt.show()"
      ]
    },
    {
      "cell_type": "markdown",
      "metadata": {},
      "source": [
        "Tambahan perbandingan grafik untuk semua region"
      ]
    },
    {
      "cell_type": "markdown",
      "metadata": {},
      "source": [
        "**Insight :** Grafik ini dengan jelas menunjukkan publisher mana yang mendominasi pasar game secara global. Publisher dengan batang paling tinggi yaitu **Nintendo** memiliki sales tertinggi.\n",
        "* NA = Nintendo\n",
        "* EU = Nintendo\n",
        "* JP = Nintendo\n",
        "* Others = EA"
      ]
    },
    {
      "cell_type": "markdown",
      "metadata": {},
      "source": [
        "**Q2 : Berapakah total sales global masing-masing genre?**"
      ]
    },
    {
      "cell_type": "code",
      "execution_count": 32,
      "metadata": {},
      "outputs": [
        {
          "name": "stdout",
          "output_type": "stream",
          "text": [
            "Genre\n",
            "Action          1722.84\n",
            "Adventure        234.59\n",
            "Fighting         444.05\n",
            "Misc             789.87\n",
            "Platform         829.13\n",
            "Puzzle           242.21\n",
            "Racing           726.76\n",
            "Role-Playing     923.83\n",
            "Shooter         1026.20\n",
            "Simulation       389.98\n",
            "Sports          1309.24\n",
            "Strategy         173.27\n",
            "Name: Global_Sales, dtype: float64\n"
          ]
        }
      ],
      "source": [
        "# Menghitung total penjualan global untuk setiap genre\n",
        "total_penjualan_per_genre = df.groupby('Genre')['Global_Sales'].sum()\n",
        "print(total_penjualan_per_genre)"
      ]
    },
    {
      "cell_type": "code",
      "execution_count": 78,
      "metadata": {},
      "outputs": [
        {
          "data": {
            "image/png": "[encoded data removed]",
            "text/plain": [
              "<Figure size 640x480 with 1 Axes>"
            ]
          },
          "metadata": {},
          "output_type": "display_data"
        }
      ],
      "source": [
        "# Mengurutkan berdasarkan total Sales secara descending dan mengambil 10 teratas\n",
        "top_10_genres = total_penjualan_per_genre.sort_values(ascending=False).head(10)\n",
        "\n",
        "# Membuat visualisasi\n",
        "top_10_genres.plot(kind='barh', color='skyblue')\n",
        "plt.title('10 Penjualan dengan Jumlah Global Tertinggi per Genre')\n",
        "plt.xlabel('Genre')\n",
        "plt.ylabel('Total Sales')\n",
        "plt.show()"
      ]
    },
    {
      "cell_type": "markdown",
      "metadata": {},
      "source": [
        " **Insight :**  Batang terpanjang yaitu Genre **Action** menunjukkan genre game yang secara total memiliki penjualan global tertinggi. Ini berarti genre tersebut sangat populer di kalangan pemain game secara global."
      ]
    },
    {
      "cell_type": "code",
      "execution_count": 75,
      "metadata": {},
      "outputs": [
        {
          "name": "stdout",
          "output_type": "stream",
          "text": [
            "           NA_Sales  EU_Sales  JP_Sales  Other_Sales  Global_Sales\n",
            "Genre                                                             \n",
            "Action       861.77    516.48    158.65       184.92       1721.82\n",
            "Platform     445.99    200.65    130.65        51.51        828.80\n",
            "Misc         396.92    211.77    106.67        73.92        789.28\n",
            "Fighting     220.74    100.00     87.15        36.19        444.08\n",
            "Adventure    101.93     63.74     51.99        16.70        234.36\n"
          ]
        },
        {
          "data": {
            "image/png": "[encoded data removed]",
            "text/plain": [
              "<Figure size 640x480 with 1 Axes>"
            ]
          },
          "metadata": {},
          "output_type": "display_data"
        }
      ],
      "source": [
        "# Menghitung total penjualan per genre di setiap region\n",
        "sales_by_genre_region = df.groupby(['Genre'])[['NA_Sales', 'EU_Sales', 'JP_Sales', 'Other_Sales']].sum().head(5)\n",
        "\n",
        "# Hitung total penjualan global per gennre\n",
        "sales_by_genre_region['Global_Sales'] = sales_by_genre_region.sum(axis=1)\n",
        "\n",
        "\n",
        "# Urutkan berdasarkan penjualan global dan ambil 5 teratas\n",
        "top_5_genre = sales_by_genre_region.sort_values('Global_Sales', ascending=False).head(5)\n",
        "\n",
        "# Menampilkan hasil dalam bentuk tabel\n",
        "print(top_5_genre)\n",
        "\n",
        "# Membuat visualisasi\n",
        "top_5_genre.plot(kind='bar')\n",
        "plt.title('Total Penjualan Per Genre di Setiap Region')\n",
        "plt.xlabel('Genre')\n",
        "plt.ylabel('Total Penjualan')\n",
        "plt.show()"
      ]
    },
    {
      "cell_type": "markdown",
      "metadata": {},
      "source": [
        "**Insight** : Grafik ini menunjukkan genre-genre mana yang paling populer secara global dan di masing-masing region. Genre dengan batang grafik tertinggi menunjukkan dominasi pasar yang signifikan. Dengan membandingkan tinggi batang untuk setiap genre di berbagai region, kita dapat mengidentifikasi perbedaan preferensi gamer di berbagai negara atau wilayah. "
      ]
    },
    {
      "cell_type": "markdown",
      "metadata": {},
      "source": [
        "**Statistik Inferensial**"
      ]
    },
    {
      "cell_type": "markdown",
      "metadata": {},
      "source": [
        "**Q3 : Apakah ada perbedaan antara global sales setiap platform?**"
      ]
    },
    {
      "cell_type": "markdown",
      "metadata": {},
      "source": [
        "Uji Hipotesis <br>\n",
        "H0 : Tidak ada perbedaan sales antara platform PC dan X360 <br>\n",
        "H1 : Ada perbedaan sales antara platform PC dan X360. <br>"
      ]
    },
    {
      "cell_type": "code",
      "execution_count": 35,
      "metadata": {},
      "outputs": [
        {
          "name": "stdout",
          "output_type": "stream",
          "text": [
            "t-statistic: -9.039041568240334\n",
            "p-value: 3.409027620394838e-19\n",
            "Ada perbedaan signifikan dalam sales antara platform PC dan X360.\n"
          ]
        }
      ],
      "source": [
        "# Memisahkan data berdasarkan genre\n",
        "PC_data = df[df['Platform'] == 'PC']['Global_Sales']\n",
        "X360_data = df[df['Platform'] == 'X360']['Global_Sales']\n",
        "\n",
        "# Uji t-test\n",
        "t_stat, p_value = stats.ttest_ind(PC_data, X360_data)\n",
        "\n",
        "print('t-statistic:', t_stat)\n",
        "print('p-value:', p_value)\n",
        "\n",
        "# Interpretasi\n",
        "alpha = 0.05\n",
        "if p_value < alpha:\n",
        "    print(\"Ada perbedaan signifikan dalam sales antara platform PC dan X360.\")\n",
        "else:\n",
        "    print(\"Tidak ada bukti yang cukup untuk menyatakan perbedaan signifikan.\")"
      ]
    },
    {
      "cell_type": "markdown",
      "metadata": {},
      "source": [
        "**Statistik Deskriptif**"
      ]
    },
    {
      "cell_type": "markdown",
      "metadata": {},
      "source": [
        "**Q4 : Bagaimana perbandingan sales antar region?**"
      ]
    },
    {
      "cell_type": "code",
      "execution_count": 74,
      "metadata": {},
      "outputs": [
        {
          "name": "stdout",
          "output_type": "stream",
          "text": [
            "\n",
            "Korelasi antara Sales NA, EU, JP and other::\n",
            "|             | NA_Sales   | EU_Sales   | JP_Sales   | Other_Sales   |\n",
            "|:------------|:-----------|:-----------|:-----------|:--------------|\n",
            "| NA_Sales    | 1          | 0.768923   | 0.451283   | 0.634518      |\n",
            "| EU_Sales    | 0.768923   | 1          | 0.436379   | 0.726256      |\n",
            "| JP_Sales    | 0.451283   | 0.436379   | 1          | 0.290559      |\n",
            "| Other_Sales | 0.634518   | 0.726256   | 0.290559   | 1             |\n"
          ]
        },
        {
          "data": {
            "image/png": "[encoded data removed]",
            "text/plain": [
              "<Figure size 800x600 with 2 Axes>"
            ]
          },
          "metadata": {},
          "output_type": "display_data"
        }
      ],
      "source": [
        "# Hitung korelasi antara NA_Sales, EU_Sales, JP_Sales\n",
        "correlation = df[['NA_Sales', 'EU_Sales', 'JP_Sales','Other_Sales']].corr()\n",
        "print(\"\\nKorelasi antara Sales NA, EU, JP and other::\")\n",
        "print(correlation.to_markdown(numalign=\"left\", stralign=\"left\"))\n",
        "\n",
        "# Buat heatmap untuk memvisualisasikan korelasi\n",
        "plt.figure(figsize=(8, 6))\n",
        "sns.heatmap(correlation, annot=True, cmap='coolwarm')\n",
        "plt.title('Korelasi antara Sales NA, EU, JP and other:')\n",
        "plt.show()"
      ]
    },
    {
      "cell_type": "markdown",
      "metadata": {},
      "source": [
        "**Insight** : Gambaran visual tentang hubungan antara penjualan game di berbagai region (Amerika Utara, Eropa, Jepang dan lainnya). Warna pada heatmap menunjukkan tingkat korelasi antara variabel: <br>\n",
        "1. Warna Merah: Korelasi positif yang kuat, artinya ketika penjualan di satu region tinggi, cenderung tinggi juga di region lain.<br>\n",
        "2. Warna Biru: Korelasi negatif yang kuat, artinya ketika penjualan di satu region tinggi, cenderung rendah di region lain.<br>\n",
        "3. Warna Putih: Korelasi yang lemah atau tidak ada korelasi."
      ]
    },
    {
      "cell_type": "markdown",
      "metadata": {},
      "source": [
        "**Q5: Kapan game paling banyak di rilis?**"
      ]
    },
    {
      "cell_type": "code",
      "execution_count": 23,
      "metadata": {},
      "outputs": [],
      "source": [
        "# Hitung jumlah game per tahun\n",
        "game_per_year = df['Year'].value_counts().sort_index()\n",
        "\n",
        "# Ubah Series menjadi DataFrame untuk fleksibilitas lebih\n",
        "game_per_year = game_per_year.to_frame(name='Jumlah Game')\n",
        "\n",
        "# Reset index agar 'Year' menjadi kolom\n",
        "game_per_year = game_per_year.reset_index()\n",
        "game_per_year.rename(columns={'index': 'Year'}, inplace=True)"
      ]
    },
    {
      "cell_type": "code",
      "execution_count": 40,
      "metadata": {},
      "outputs": [
        {
          "data": {
            "text/html": [
              "<div>\n",
              "<style scoped>\n",
              "    .dataframe tbody tr th:only-of-type {\n",
              "        vertical-align: middle;\n",
              "    }\n",
              "\n",
              "    .dataframe tbody tr th {\n",
              "        vertical-align: top;\n",
              "    }\n",
              "\n",
              "    .dataframe thead th {\n",
              "        text-align: right;\n",
              "    }\n",
              "</style>\n",
              "<table border=\"1\" class=\"dataframe\">\n",
              "  <thead>\n",
              "    <tr style=\"text-align: right;\">\n",
              "      <th></th>\n",
              "      <th>Year</th>\n",
              "      <th>Jumlah Game</th>\n",
              "    </tr>\n",
              "  </thead>\n",
              "  <tbody>\n",
              "    <tr>\n",
              "      <th>29</th>\n",
              "      <td>2009-01-01</td>\n",
              "      <td>1431</td>\n",
              "    </tr>\n",
              "    <tr>\n",
              "      <th>28</th>\n",
              "      <td>2008-01-01</td>\n",
              "      <td>1428</td>\n",
              "    </tr>\n",
              "    <tr>\n",
              "      <th>30</th>\n",
              "      <td>2010-01-01</td>\n",
              "      <td>1257</td>\n",
              "    </tr>\n",
              "    <tr>\n",
              "      <th>27</th>\n",
              "      <td>2007-01-01</td>\n",
              "      <td>1201</td>\n",
              "    </tr>\n",
              "    <tr>\n",
              "      <th>31</th>\n",
              "      <td>2011-01-01</td>\n",
              "      <td>1136</td>\n",
              "    </tr>\n",
              "  </tbody>\n",
              "</table>\n",
              "</div>"
            ],
            "text/plain": [
              "          Year  Jumlah Game\n",
              "29  2009-01-01         1431\n",
              "28  2008-01-01         1428\n",
              "30  2010-01-01         1257\n",
              "27  2007-01-01         1201\n",
              "31  2011-01-01         1136"
            ]
          },
          "execution_count": 40,
          "metadata": {},
          "output_type": "execute_result"
        }
      ],
      "source": [
        "top_5_years = game_per_year.sort_values('Jumlah Game', ascending=False).head(5)\n",
        "top_5_years"
      ]
    },
    {
      "cell_type": "code",
      "execution_count": null,
      "metadata": {},
      "outputs": [
        {
          "data": {
            "image/png": "[encoded data removed]",
            "text/plain": [
              "<Figure size 1000x600 with 1 Axes>"
            ]
          },
          "metadata": {},
          "output_type": "display_data"
        }
      ],
      "source": [
        "# Membuat visualisasi dengan line chart\n",
        "plt.figure(figsize=(10,6))\n",
        "plt.plot(game_per_year['Year'], game_per_year['Jumlah Game'], marker='o', linestyle='-',color=\n",
        "         'red')\n",
        "plt.title('Jumlah Game yang Drilis Setiap Tahun')\n",
        "plt.xlabel('Year')\n",
        "plt.ylabel('Jumlah Game')\n",
        "plt.grid(True)\n",
        "plt.show()"
      ]
    },
    {
      "cell_type": "markdown",
      "metadata": {},
      "source": [
        "**Insight** : Grafik ini memberikan gambaran yang jelas tentang bagaimana jumlah game yang dirilis berubah dari waktu ke waktu. Pada grafik ini dapat dilihat apakah ada tahun-tahun tertentu yang mengalami peningkatan atau penurunan jumlah rilis game dan tahun 2009 adalah tahun paling tinggi merilis game yaitu sejumlah 1431"
      ]
    },
    {
      "cell_type": "markdown",
      "metadata": {},
      "source": [
        "**Q6 : Di platform mana yang memiliki sales tertinggi di masing-masing region?**"
      ]
    },
    {
      "cell_type": "code",
      "execution_count": 76,
      "metadata": {},
      "outputs": [],
      "source": [
        "# Menghitung total penjualan per platform di setiap region\n",
        "sales_by_platform_region = df.groupby('Platform')[['NA_Sales', 'EU_Sales', 'JP_Sales', 'Other_Sales']].sum()\n",
        "\n",
        "# Hitung total penjualan global per platform\n",
        "sales_by_platform_region['Global_Sales'] = sales_by_platform_region.sum(axis=1)\n",
        "\n",
        "# Urutkan berdasarkan penjualan global dan ambil 5 teratas\n",
        "top_5_platforms = sales_by_platform_region.sort_values('Global_Sales', ascending=False).head(5)"
      ]
    },
    {
      "cell_type": "code",
      "execution_count": 77,
      "metadata": {},
      "outputs": [
        {
          "data": {
            "image/png": "[encoded data removed]",
            "text/plain": [
              "<Figure size 640x480 with 1 Axes>"
            ]
          },
          "metadata": {},
          "output_type": "display_data"
        }
      ],
      "source": [
        "# Membuat visualisasi dengan bar chart (tanpa nilai numerik pada batang)\n",
        "top_5_platforms[['NA_Sales', 'EU_Sales', 'JP_Sales', 'Other_Sales']].plot(kind='bar')\n",
        "plt.title('Perbandingan Penjualan 5 Platform Game Teratas di Setiap Region')\n",
        "plt.xlabel('Platform')\n",
        "plt.ylabel('Total Penjualan')\n",
        "plt.xticks(rotation=45)\n",
        "plt.legend(loc='upper right') \n",
        "plt.show()"
      ]
    },
    {
      "cell_type": "markdown",
      "metadata": {},
      "source": [
        "**Insight** : Grafik batang akan menunjukkan platform mana yang memiliki pangsa pasar terbesar secara global. Platform dengan batang grafik paling tinggi mengindikasikan dominasi yang signifikan di pasar game. Dengan membandingkan tinggi batang untuk setiap region, kita dapat melihat perbedaan preferensi gamer di berbagai negara atau wilayah. Misalnya, jika platform tertentu memiliki batang yang sangat tinggi di wilayah Jepang, ini mengindikasikan platform tersebut sangat populer di Jepang Dan inilah platform yg paling populer di region masing2 :\n",
        "* NA = x360\n",
        "* EU = PS3\n",
        "* JP = DS\n",
        "* Others = PS2"
      ]
    },
    {
      "cell_type": "markdown",
      "metadata": {
        "id": "IWfw3jYByeYp"
      },
      "source": [
        "# Kesimpulan"
      ]
    },
    {
      "cell_type": "markdown",
      "metadata": {},
      "source": [
        "Baik platform, genre, maupun publisher tertentu cenderung mendominasi pasar. Setiap region memiliki preferensi yang berbeda terhadap platform dan genre tertentu. Hal ini terlihat jelas dalam perbandingan penjualan di berbagai region. \n",
        "Ada kemungkinan ditemukan korelasi antara platform, genre, dan publisher. Misalnya, platform tertentu mungkin lebih dominan pada genre tertentu, atau publisher tertentu mungkin lebih fokus pada region tertentu.\n",
        "\n",
        "Pengembang game dapat menggunakan data ini untuk menentukan platform mana yang harus ditargetkan seperti platform PS2 sebagai platform dengan sales tertinggi, genre apa yang paling menjanjikan dengan contoh genre Action sebagai genre paling diminati, dan region mana yang memiliki potensi pertumbuhan terbesar yaitu NA. Penerbit game dapat menggunakan data ini untuk menyusun strategi pemasaran yang lebih efektif, dengan menargetkan audiens yang tepat berdasarkan preferensi mereka."
      ]
    }
  ],
  "metadata": {
    "colab": {
      "provenance": [],
      "toc_visible": true
    },
    "kernelspec": {
      "display_name": "Python 3",
      "name": "python3"
    },
    "language_info": {
      "codemirror_mode": {
        "name": "ipython",
        "version": 3
      },
      "file_extension": ".py",
      "mimetype": "text/x-python",
      "name": "python",
      "nbconvert_exporter": "python",
      "pygments_lexer": "ipython3",
      "version": "3.9.13"
    }
  },
  "nbformat": 4,
  "nbformat_minor": 0
}
